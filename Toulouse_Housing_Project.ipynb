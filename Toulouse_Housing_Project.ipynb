{
  "nbformat": 4,
  "nbformat_minor": 0,
  "metadata": {
    "colab": {
      "name": "Toulouse Housing Project",
      "provenance": [],
      "collapsed_sections": []
    },
    "kernelspec": {
      "name": "python3",
      "display_name": "Python 3"
    },
    "language_info": {
      "name": "python"
    }
  },
  "cells": [
    {
      "cell_type": "code",
      "execution_count": null,
      "metadata": {
        "id": "W9SfJYiDi8AJ"
      },
      "outputs": [],
      "source": [
        "!apt-get install openjdk-8-jdk-headless -qq > /dev/null\n"
      ]
    },
    {
      "cell_type": "code",
      "source": [
        "!wget -q https://dlcdn.apache.org/spark/spark-3.2.1/spark-3.2.1-bin-hadoop3.2.tgz"
      ],
      "metadata": {
        "id": "t1_sOb8-j4r0"
      },
      "execution_count": null,
      "outputs": []
    },
    {
      "cell_type": "code",
      "source": [
        "!tar xf spark-3.2.1-bin-hadoop3.2.tgz"
      ],
      "metadata": {
        "id": "4GnZjjsPkASl"
      },
      "execution_count": null,
      "outputs": []
    },
    {
      "cell_type": "code",
      "source": [
        "!pip install -q findspark\n"
      ],
      "metadata": {
        "id": "lg4hZXH9kKFY"
      },
      "execution_count": null,
      "outputs": []
    },
    {
      "cell_type": "code",
      "source": [
        "import os\n",
        "os.environ[\"JAVA_HOME\"] = \"/usr/lib/jvm/java-8-openjdk-amd64\"\n",
        "os.environ[\"SPARK_HOME\"] = \"/content/spark-3.2.1-bin-hadoop3.2\""
      ],
      "metadata": {
        "id": "LWmUDsJ1kOzW"
      },
      "execution_count": null,
      "outputs": []
    },
    {
      "cell_type": "code",
      "source": [
        "import findspark\n",
        "findspark.init()"
      ],
      "metadata": {
        "id": "_W_KpbRSkdqz"
      },
      "execution_count": null,
      "outputs": []
    },
    {
      "cell_type": "code",
      "source": [
        "!pip install pyspark"
      ],
      "metadata": {
        "colab": {
          "base_uri": "https://localhost:8080/"
        },
        "id": "E6O04ofolBbD",
        "outputId": "2f461f3d-5184-4fd6-de31-00f5712d45f7"
      },
      "execution_count": null,
      "outputs": [
        {
          "output_type": "stream",
          "name": "stdout",
          "text": [
            "Collecting pyspark\n",
            "  Downloading pyspark-3.2.1.tar.gz (281.4 MB)\n",
            "\u001b[K     |████████████████████████████████| 281.4 MB 32 kB/s \n",
            "\u001b[?25hCollecting py4j==0.10.9.3\n",
            "  Downloading py4j-0.10.9.3-py2.py3-none-any.whl (198 kB)\n",
            "\u001b[K     |████████████████████████████████| 198 kB 59.8 MB/s \n",
            "\u001b[?25hBuilding wheels for collected packages: pyspark\n",
            "  Building wheel for pyspark (setup.py) ... \u001b[?25l\u001b[?25hdone\n",
            "  Created wheel for pyspark: filename=pyspark-3.2.1-py2.py3-none-any.whl size=281853642 sha256=4e22aecaf67cc8b40794b7413fa564aa3a9e354e90bbe21829db65ad6e17232e\n",
            "  Stored in directory: /root/.cache/pip/wheels/9f/f5/07/7cd8017084dce4e93e84e92efd1e1d5334db05f2e83bcef74f\n",
            "Successfully built pyspark\n",
            "Installing collected packages: py4j, pyspark\n",
            "Successfully installed py4j-0.10.9.3 pyspark-3.2.1\n"
          ]
        }
      ]
    },
    {
      "cell_type": "code",
      "source": [
        "# import all required modules\n",
        "import matplotlib.pyplot as plt\n",
        "import numpy as np\n",
        "import seaborn as sn\n",
        "from pyspark import SparkContext\n",
        "from  pyspark.sql  import SQLContext\n",
        "from pyspark.sql.functions import mean, min, max, avg, stddev, desc, isnull, col, log, lit\n",
        "from pyspark.mllib.stat import Statistics\n",
        "from pyspark.sql.types import DoubleType"
      ],
      "metadata": {
        "id": "qhC0zl5LkjNk"
      },
      "execution_count": null,
      "outputs": []
    },
    {
      "cell_type": "code",
      "source": [
        "import warnings\n",
        "warnings.filterwarnings(\"ignore\", category=FutureWarning)\n",
        "warnings.filterwarnings(\"ignore\", category=DeprecationWarning)\n",
        "import seaborn as sns\n",
        "import pandas as pd \n",
        "import matplotlib.pyplot as plt\n",
        "import pyspark\n",
        "from pyspark.sql.types import *\n",
        "spark = pyspark.sql.SparkSession.builder.appName(\"Spark-Dataframe-SQL-real-estate\").getOrCreate()"
      ],
      "metadata": {
        "id": "BqRFpiCGZyom"
      },
      "execution_count": null,
      "outputs": []
    },
    {
      "cell_type": "code",
      "source": [
        "!pip -q install pyspark flasgger"
      ],
      "metadata": {
        "colab": {
          "base_uri": "https://localhost:8080/"
        },
        "id": "EfkfMJ1lHwtN",
        "outputId": "98f070d0-a8e7-4880-e485-5be622c788be"
      },
      "execution_count": null,
      "outputs": [
        {
          "output_type": "stream",
          "name": "stdout",
          "text": [
            "\u001b[K     |████████████████████████████████| 3.8 MB 7.0 MB/s \n",
            "\u001b[?25h"
          ]
        }
      ]
    },
    {
      "cell_type": "code",
      "source": [
        "import plotly.express as px\n",
        "from pyspark.sql import SparkSession, functions as f"
      ],
      "metadata": {
        "id": "27WK6p_3Hyd5"
      },
      "execution_count": null,
      "outputs": []
    },
    {
      "cell_type": "code",
      "source": [
        "spark = SparkSession.builder.master('local[3]').appName('Realestate').getOrCreate()"
      ],
      "metadata": {
        "id": "kiZYR0czIA2B"
      },
      "execution_count": null,
      "outputs": []
    },
    {
      "cell_type": "code",
      "source": [
        "import pandas \n"
      ],
      "metadata": {
        "id": "Cnf9p272Y9B5"
      },
      "execution_count": null,
      "outputs": []
    },
    {
      "cell_type": "code",
      "source": [
        "df = spark.read.csv('/content/project_data_real_estate_toulouse_and_suburb.csv',header=True,inferSchema=True)"
      ],
      "metadata": {
        "id": "JgK9xJd8VyFp"
      },
      "execution_count": null,
      "outputs": []
    },
    {
      "cell_type": "code",
      "source": [
        "df.show(5)"
      ],
      "metadata": {
        "colab": {
          "base_uri": "https://localhost:8080/"
        },
        "id": "zYPn_4ndVnFc",
        "outputId": "19663103-4bf8-40ae-dee8-e8d619cddabc"
      },
      "execution_count": null,
      "outputs": [
        {
          "output_type": "stream",
          "name": "stdout",
          "text": [
            "+----------+--------+--------+--------+-------------------+-------+------+-------------+----------+--------+\n",
            "|  SaleDate|SaleType|   Price|PostCode|               City|NbRooms|NbLots|ResidenceType|LivingArea|LandArea|\n",
            "+----------+--------+--------+--------+-------------------+-------+------+-------------+----------+--------+\n",
            "|15/01/2019|    SALE| 95000.0|   31270|VILLENEUVE TOLOSANE|      2|     0|        HOUSE|        45|     505|\n",
            "|21/01/2019|    SALE|261700.0|   31270|VILLENEUVE TOLOSANE|      4|     0|        HOUSE|        87|     311|\n",
            "|03/01/2019|    SALE|101000.0|   31270|VILLENEUVE TOLOSANE|      2|     1|    APARTMENT|        44|       0|\n",
            "|11/01/2019|    SALE| 59500.0|   31270|VILLENEUVE TOLOSANE|      1|     1|    APARTMENT|        26|       0|\n",
            "|15/01/2019|    SALE|179000.0|   31270|VILLENEUVE TOLOSANE|      4|     0|        HOUSE|        95|     263|\n",
            "+----------+--------+--------+--------+-------------------+-------+------+-------------+----------+--------+\n",
            "only showing top 5 rows\n",
            "\n"
          ]
        }
      ]
    },
    {
      "cell_type": "code",
      "source": [
        "dfschema = StructType([StructField(\"SaleDate\", StringType(), False),\n",
        "                       StructField(\"SaleType\", StringType(),False),\n",
        "                       StructField(\"Price\", IntegerType(), False),\n",
        "                       StructField(\"PostCode\", StringType(), False),\n",
        "                       StructField(\"City\", StringType(), False),\n",
        "                       StructField(\"NbRooms\",IntegerType(),False),\n",
        "                       StructField(\"NbLots\",IntegerType(),False),\n",
        "                       StructField(\"ResidenceType\", StringType(), False),\n",
        "                       StructField(\"LivingArea\", IntegerType(), False),\n",
        "                       StructField(\"LandArea\", IntegerType(), False) ])"
      ],
      "metadata": {
        "id": "mQfJAplaZxP_"
      },
      "execution_count": 117,
      "outputs": []
    },
    {
      "cell_type": "code",
      "source": [
        "df = spark.read.csv('/content/project_data_real_estate_toulouse_and_suburb.csv',schema=dfschema)\n",
        "df.show(5)\n"
      ],
      "metadata": {
        "colab": {
          "base_uri": "https://localhost:8080/"
        },
        "id": "IZ4k4v0kexKN",
        "outputId": "5722612d-7db2-4c1a-b527-46fffb9c11ac"
      },
      "execution_count": 118,
      "outputs": [
        {
          "output_type": "stream",
          "name": "stdout",
          "text": [
            "+----------+--------+------+--------+-------------------+-------+------+-------------+----------+--------+\n",
            "|  SaleDate|SaleType| Price|PostCode|               City|NbRooms|NbLots|ResidenceType|LivingArea|LandArea|\n",
            "+----------+--------+------+--------+-------------------+-------+------+-------------+----------+--------+\n",
            "|  SaleDate|SaleType|  null|PostCode|               City|   null|  null|ResidenceType|      null|    null|\n",
            "|15/01/2019|    SALE| 95000|   31270|VILLENEUVE TOLOSANE|      2|     0|        HOUSE|        45|     505|\n",
            "|21/01/2019|    SALE|261700|   31270|VILLENEUVE TOLOSANE|      4|     0|        HOUSE|        87|     311|\n",
            "|03/01/2019|    SALE|101000|   31270|VILLENEUVE TOLOSANE|      2|     1|    APARTMENT|        44|       0|\n",
            "|11/01/2019|    SALE| 59500|   31270|VILLENEUVE TOLOSANE|      1|     1|    APARTMENT|        26|       0|\n",
            "+----------+--------+------+--------+-------------------+-------+------+-------------+----------+--------+\n",
            "only showing top 5 rows\n",
            "\n"
          ]
        }
      ]
    },
    {
      "cell_type": "code",
      "source": [
        "df.toPandas().shape"
      ],
      "metadata": {
        "colab": {
          "base_uri": "https://localhost:8080/"
        },
        "id": "_O6ZcZY-ZjKp",
        "outputId": "c80e10d9-8356-4a51-bc7b-19e332671e89"
      },
      "execution_count": 119,
      "outputs": [
        {
          "output_type": "execute_result",
          "data": {
            "text/plain": [
              "(80119, 10)"
            ]
          },
          "metadata": {},
          "execution_count": 119
        }
      ]
    },
    {
      "cell_type": "code",
      "source": [
        "df.toPandas().info()"
      ],
      "metadata": {
        "colab": {
          "base_uri": "https://localhost:8080/"
        },
        "id": "iyBhNk0tZp0n",
        "outputId": "b3e2769f-2867-42f0-e8be-d26a9a58f9dd"
      },
      "execution_count": 120,
      "outputs": [
        {
          "output_type": "stream",
          "name": "stdout",
          "text": [
            "<class 'pandas.core.frame.DataFrame'>\n",
            "RangeIndex: 80119 entries, 0 to 80118\n",
            "Data columns (total 10 columns):\n",
            " #   Column         Non-Null Count  Dtype  \n",
            "---  ------         --------------  -----  \n",
            " 0   SaleDate       80119 non-null  object \n",
            " 1   SaleType       80119 non-null  object \n",
            " 2   Price          77105 non-null  float64\n",
            " 3   PostCode       80119 non-null  object \n",
            " 4   City           80119 non-null  object \n",
            " 5   NbRooms        80118 non-null  float64\n",
            " 6   NbLots         80118 non-null  float64\n",
            " 7   ResidenceType  80119 non-null  object \n",
            " 8   LivingArea     80118 non-null  float64\n",
            " 9   LandArea       80118 non-null  float64\n",
            "dtypes: float64(5), object(5)\n",
            "memory usage: 6.1+ MB\n"
          ]
        }
      ]
    },
    {
      "cell_type": "code",
      "source": [
        "#describe()\n",
        "df.toPandas().describe()"
      ],
      "metadata": {
        "colab": {
          "base_uri": "https://localhost:8080/",
          "height": 300
        },
        "id": "i8jlZV1UZyDL",
        "outputId": "7c6131a9-3b29-4f9e-b412-5c31c7fe1d8c"
      },
      "execution_count": 121,
      "outputs": [
        {
          "output_type": "execute_result",
          "data": {
            "text/plain": [
              "              Price       NbRooms        NbLots    LivingArea      LandArea\n",
              "count  7.710500e+04  80118.000000  80118.000000  80118.000000  80118.000000\n",
              "mean   5.521475e+05      3.000100      1.037045     66.892758    254.026623\n",
              "std    2.435570e+06      1.351122      0.829138     35.895210   1369.236760\n",
              "min    0.000000e+00      1.000000      0.000000      1.000000      0.000000\n",
              "25%    1.225000e+05      2.000000      0.000000     43.000000      0.000000\n",
              "50%    1.800000e+05      3.000000      1.000000     62.000000      0.000000\n",
              "75%    2.800000e+05      4.000000      2.000000     82.000000    113.000000\n",
              "max    3.342722e+07     41.000000     13.000000    481.000000  60792.000000"
            ],
            "text/html": [
              "\n",
              "  <div id=\"df-ff41dbd6-5d6f-42c2-8787-bc492e7ec87d\">\n",
              "    <div class=\"colab-df-container\">\n",
              "      <div>\n",
              "<style scoped>\n",
              "    .dataframe tbody tr th:only-of-type {\n",
              "        vertical-align: middle;\n",
              "    }\n",
              "\n",
              "    .dataframe tbody tr th {\n",
              "        vertical-align: top;\n",
              "    }\n",
              "\n",
              "    .dataframe thead th {\n",
              "        text-align: right;\n",
              "    }\n",
              "</style>\n",
              "<table border=\"1\" class=\"dataframe\">\n",
              "  <thead>\n",
              "    <tr style=\"text-align: right;\">\n",
              "      <th></th>\n",
              "      <th>Price</th>\n",
              "      <th>NbRooms</th>\n",
              "      <th>NbLots</th>\n",
              "      <th>LivingArea</th>\n",
              "      <th>LandArea</th>\n",
              "    </tr>\n",
              "  </thead>\n",
              "  <tbody>\n",
              "    <tr>\n",
              "      <th>count</th>\n",
              "      <td>7.710500e+04</td>\n",
              "      <td>80118.000000</td>\n",
              "      <td>80118.000000</td>\n",
              "      <td>80118.000000</td>\n",
              "      <td>80118.000000</td>\n",
              "    </tr>\n",
              "    <tr>\n",
              "      <th>mean</th>\n",
              "      <td>5.521475e+05</td>\n",
              "      <td>3.000100</td>\n",
              "      <td>1.037045</td>\n",
              "      <td>66.892758</td>\n",
              "      <td>254.026623</td>\n",
              "    </tr>\n",
              "    <tr>\n",
              "      <th>std</th>\n",
              "      <td>2.435570e+06</td>\n",
              "      <td>1.351122</td>\n",
              "      <td>0.829138</td>\n",
              "      <td>35.895210</td>\n",
              "      <td>1369.236760</td>\n",
              "    </tr>\n",
              "    <tr>\n",
              "      <th>min</th>\n",
              "      <td>0.000000e+00</td>\n",
              "      <td>1.000000</td>\n",
              "      <td>0.000000</td>\n",
              "      <td>1.000000</td>\n",
              "      <td>0.000000</td>\n",
              "    </tr>\n",
              "    <tr>\n",
              "      <th>25%</th>\n",
              "      <td>1.225000e+05</td>\n",
              "      <td>2.000000</td>\n",
              "      <td>0.000000</td>\n",
              "      <td>43.000000</td>\n",
              "      <td>0.000000</td>\n",
              "    </tr>\n",
              "    <tr>\n",
              "      <th>50%</th>\n",
              "      <td>1.800000e+05</td>\n",
              "      <td>3.000000</td>\n",
              "      <td>1.000000</td>\n",
              "      <td>62.000000</td>\n",
              "      <td>0.000000</td>\n",
              "    </tr>\n",
              "    <tr>\n",
              "      <th>75%</th>\n",
              "      <td>2.800000e+05</td>\n",
              "      <td>4.000000</td>\n",
              "      <td>2.000000</td>\n",
              "      <td>82.000000</td>\n",
              "      <td>113.000000</td>\n",
              "    </tr>\n",
              "    <tr>\n",
              "      <th>max</th>\n",
              "      <td>3.342722e+07</td>\n",
              "      <td>41.000000</td>\n",
              "      <td>13.000000</td>\n",
              "      <td>481.000000</td>\n",
              "      <td>60792.000000</td>\n",
              "    </tr>\n",
              "  </tbody>\n",
              "</table>\n",
              "</div>\n",
              "      <button class=\"colab-df-convert\" onclick=\"convertToInteractive('df-ff41dbd6-5d6f-42c2-8787-bc492e7ec87d')\"\n",
              "              title=\"Convert this dataframe to an interactive table.\"\n",
              "              style=\"display:none;\">\n",
              "        \n",
              "  <svg xmlns=\"http://www.w3.org/2000/svg\" height=\"24px\"viewBox=\"0 0 24 24\"\n",
              "       width=\"24px\">\n",
              "    <path d=\"M0 0h24v24H0V0z\" fill=\"none\"/>\n",
              "    <path d=\"M18.56 5.44l.94 2.06.94-2.06 2.06-.94-2.06-.94-.94-2.06-.94 2.06-2.06.94zm-11 1L8.5 8.5l.94-2.06 2.06-.94-2.06-.94L8.5 2.5l-.94 2.06-2.06.94zm10 10l.94 2.06.94-2.06 2.06-.94-2.06-.94-.94-2.06-.94 2.06-2.06.94z\"/><path d=\"M17.41 7.96l-1.37-1.37c-.4-.4-.92-.59-1.43-.59-.52 0-1.04.2-1.43.59L10.3 9.45l-7.72 7.72c-.78.78-.78 2.05 0 2.83L4 21.41c.39.39.9.59 1.41.59.51 0 1.02-.2 1.41-.59l7.78-7.78 2.81-2.81c.8-.78.8-2.07 0-2.86zM5.41 20L4 18.59l7.72-7.72 1.47 1.35L5.41 20z\"/>\n",
              "  </svg>\n",
              "      </button>\n",
              "      \n",
              "  <style>\n",
              "    .colab-df-container {\n",
              "      display:flex;\n",
              "      flex-wrap:wrap;\n",
              "      gap: 12px;\n",
              "    }\n",
              "\n",
              "    .colab-df-convert {\n",
              "      background-color: #E8F0FE;\n",
              "      border: none;\n",
              "      border-radius: 50%;\n",
              "      cursor: pointer;\n",
              "      display: none;\n",
              "      fill: #1967D2;\n",
              "      height: 32px;\n",
              "      padding: 0 0 0 0;\n",
              "      width: 32px;\n",
              "    }\n",
              "\n",
              "    .colab-df-convert:hover {\n",
              "      background-color: #E2EBFA;\n",
              "      box-shadow: 0px 1px 2px rgba(60, 64, 67, 0.3), 0px 1px 3px 1px rgba(60, 64, 67, 0.15);\n",
              "      fill: #174EA6;\n",
              "    }\n",
              "\n",
              "    [theme=dark] .colab-df-convert {\n",
              "      background-color: #3B4455;\n",
              "      fill: #D2E3FC;\n",
              "    }\n",
              "\n",
              "    [theme=dark] .colab-df-convert:hover {\n",
              "      background-color: #434B5C;\n",
              "      box-shadow: 0px 1px 3px 1px rgba(0, 0, 0, 0.15);\n",
              "      filter: drop-shadow(0px 1px 2px rgba(0, 0, 0, 0.3));\n",
              "      fill: #FFFFFF;\n",
              "    }\n",
              "  </style>\n",
              "\n",
              "      <script>\n",
              "        const buttonEl =\n",
              "          document.querySelector('#df-ff41dbd6-5d6f-42c2-8787-bc492e7ec87d button.colab-df-convert');\n",
              "        buttonEl.style.display =\n",
              "          google.colab.kernel.accessAllowed ? 'block' : 'none';\n",
              "\n",
              "        async function convertToInteractive(key) {\n",
              "          const element = document.querySelector('#df-ff41dbd6-5d6f-42c2-8787-bc492e7ec87d');\n",
              "          const dataTable =\n",
              "            await google.colab.kernel.invokeFunction('convertToInteractive',\n",
              "                                                     [key], {});\n",
              "          if (!dataTable) return;\n",
              "\n",
              "          const docLinkHtml = 'Like what you see? Visit the ' +\n",
              "            '<a target=\"_blank\" href=https://colab.research.google.com/notebooks/data_table.ipynb>data table notebook</a>'\n",
              "            + ' to learn more about interactive tables.';\n",
              "          element.innerHTML = '';\n",
              "          dataTable['output_type'] = 'display_data';\n",
              "          await google.colab.output.renderOutput(dataTable, element);\n",
              "          const docLink = document.createElement('div');\n",
              "          docLink.innerHTML = docLinkHtml;\n",
              "          element.appendChild(docLink);\n",
              "        }\n",
              "      </script>\n",
              "    </div>\n",
              "  </div>\n",
              "  "
            ]
          },
          "metadata": {},
          "execution_count": 121
        }
      ]
    },
    {
      "cell_type": "markdown",
      "source": [
        "II : Exploratory Data Analysis with insigths"
      ],
      "metadata": {
        "id": "pTfZb9BjEDI4"
      }
    },
    {
      "cell_type": "markdown",
      "source": [
        "The evolution of price per square meter"
      ],
      "metadata": {
        "id": "6HHbMcmrENPu"
      }
    },
    {
      "cell_type": "code",
      "source": [
        "import pyspark.sql.functions as f\n",
        "\n",
        "evolution_price= df.groupBy('SaleDate')\\\n",
        "                                         .agg(f.sum('Price')/f.sum('LivingArea'))\\\n",
        "                                         .withColumnRenamed('(sum(Price) / sum(LivingArea))', 'Price_square')\\\n",
        "                                         .orderBy('Price_square', ascending=False)\n",
        "\n",
        "evolution_price.show(10)"
      ],
      "metadata": {
        "colab": {
          "base_uri": "https://localhost:8080/"
        },
        "id": "Jh6EmX60bK6x",
        "outputId": "e18761a6-59c0-4a89-b5bf-a007359e9e02"
      },
      "execution_count": 122,
      "outputs": [
        {
          "output_type": "stream",
          "name": "stdout",
          "text": [
            "+----------+------------------+\n",
            "|  SaleDate|      Price_square|\n",
            "+----------+------------------+\n",
            "|08/04/2015| 384811.7825821581|\n",
            "|20/01/2016|164424.27136203783|\n",
            "|31/01/2019|145157.12641660016|\n",
            "|18/12/2017| 108949.8592786478|\n",
            "|27/04/2017| 83517.23271539781|\n",
            "|16/12/2016| 75374.22460722829|\n",
            "|06/12/2017| 68814.54915790989|\n",
            "|03/11/2016|50242.938456632655|\n",
            "|21/12/2016|38760.206654212256|\n",
            "|14/09/2018| 23899.40783490731|\n",
            "+----------+------------------+\n",
            "only showing top 10 rows\n",
            "\n"
          ]
        }
      ]
    },
    {
      "cell_type": "code",
      "source": [
        "plt.figure(figsize=(10,10))\n",
        "sns.lineplot(x='SaleDate',y='Price_square' ,data=evolution_price.toPandas())"
      ],
      "metadata": {
        "colab": {
          "base_uri": "https://localhost:8080/",
          "height": 623
        },
        "id": "WsR-v2TKbZQM",
        "outputId": "75a6a539-485e-4ba9-8588-f49a67765651"
      },
      "execution_count": 123,
      "outputs": [
        {
          "output_type": "execute_result",
          "data": {
            "text/plain": [
              "<matplotlib.axes._subplots.AxesSubplot at 0x7fafbbc27890>"
            ]
          },
          "metadata": {},
          "execution_count": 123
        },
        {
          "output_type": "display_data",
          "data": {
            "text/plain": [
              "<Figure size 720x720 with 1 Axes>"
            ],
            "image/png": "[encoded data removed]"
          },
          "metadata": {
            "needs_background": "light"
          }
        }
      ]
    },
    {
      "cell_type": "code",
      "source": [
        "df_evolution_price=evolution_price.toPandas()\n",
        "df_evolution_price.set_index(\"SaleDate\",inplace=True)"
      ],
      "metadata": {
        "id": "CIjIqZXLblpf"
      },
      "execution_count": null,
      "outputs": []
    },
    {
      "cell_type": "markdown",
      "source": [
        "The evolution of the price per square meter per City"
      ],
      "metadata": {
        "id": "c5sT6trhb5Kr"
      }
    },
    {
      "cell_type": "code",
      "source": [
        "import pyspark.sql.functions as f\n",
        "\n",
        "evolution_price_per_city = df.groupBy('City')\\\n",
        "                                         .agg(f.sum('Price')/f.sum('LivingArea'))\\\n",
        "                                         .withColumnRenamed('(sum(Price) / sum(LivingArea))', 'Price_square')\\\n",
        "                                         .orderBy('Price_square', ascending=False)\n",
        "\n",
        "evolution_price_per_city .show(10)"
      ],
      "metadata": {
        "colab": {
          "base_uri": "https://localhost:8080/"
        },
        "id": "KL9SiIdQbxkF",
        "outputId": "22193639-83fd-4097-e0da-83a2faa22b62"
      },
      "execution_count": null,
      "outputs": [
        {
          "output_type": "stream",
          "name": "stdout",
          "text": [
            "+--------------------+------------------+\n",
            "|                City|      Price_square|\n",
            "+--------------------+------------------+\n",
            "|          SAINT-JEAN|10256.016765394987|\n",
            "|            TOULOUSE|10096.963393744883|\n",
            "|              PIBRAC| 8009.514431632145|\n",
            "|             BLAGNAC| 7267.698062792251|\n",
            "|             CUGNAUX| 6961.905634660357|\n",
            "|          AUCAMVILLE| 6901.880151114469|\n",
            "|RAMONVILLE-SAINT-...| 5812.235803423056|\n",
            "|           COLOMIERS| 4169.699389106932|\n",
            "| VILLENEUVE TOLOSANE| 4142.363330546211|\n",
            "|       TOURNEFEUILLE|3971.5711923445724|\n",
            "+--------------------+------------------+\n",
            "only showing top 10 rows\n",
            "\n"
          ]
        }
      ]
    },
    {
      "cell_type": "code",
      "source": [
        "df_evolution= evolution_price_per_city.toPandas()"
      ],
      "metadata": {
        "id": "Vyuf-PUdcA5h"
      },
      "execution_count": null,
      "outputs": []
    },
    {
      "cell_type": "code",
      "source": [
        "plt.figure(figsize=(10,10))\n",
        "sns.barplot(x='City',y='Price_square' ,data=df_evolution,palette='Greens_d')"
      ],
      "metadata": {
        "colab": {
          "base_uri": "https://localhost:8080/",
          "height": 623
        },
        "id": "ee5PBgt0cEpN",
        "outputId": "190e92a2-7783-4714-e474-76053466d9aa"
      },
      "execution_count": null,
      "outputs": [
        {
          "output_type": "execute_result",
          "data": {
            "text/plain": [
              "<matplotlib.axes._subplots.AxesSubplot at 0x7fafbfbe4150>"
            ]
          },
          "metadata": {},
          "execution_count": 26
        },
        {
          "output_type": "display_data",
          "data": {
            "text/plain": [
              "<Figure size 720x720 with 1 Axes>"
            ],
            "image/png": "[encoded data removed]"
          },
          "metadata": {
            "needs_background": "light"
          }
        }
      ]
    },
    {
      "cell_type": "code",
      "source": [
        "plt.figure(figsize=(20,10))\n",
        "sns.barplot(x='City',y='Price_square' ,data=df_evolution.head(10),palette='Greens_d')"
      ],
      "metadata": {
        "colab": {
          "base_uri": "https://localhost:8080/",
          "height": 504
        },
        "id": "3fBeCZv_cJhN",
        "outputId": "9b813dd8-9040-406f-babe-179ab79273a1"
      },
      "execution_count": null,
      "outputs": [
        {
          "output_type": "execute_result",
          "data": {
            "text/plain": [
              "<matplotlib.axes._subplots.AxesSubplot at 0x7fafbf8a8750>"
            ]
          },
          "metadata": {},
          "execution_count": 27
        },
        {
          "output_type": "display_data",
          "data": {
            "text/plain": [
              "<Figure size 1440x720 with 1 Axes>"
            ],
            "image/png": "[encoded data removed]"
          },
          "metadata": {
            "needs_background": "light"
          }
        }
      ]
    },
    {
      "cell_type": "markdown",
      "source": [
        "Differences between apartment and houses\n",
        "According to the price per square\n",
        "For the Apartement"
      ],
      "metadata": {
        "id": "IhYw1wpDcVwk"
      }
    },
    {
      "cell_type": "code",
      "source": [
        "import pyspark.sql.functions as f\n",
        "\n",
        "apartement = df.filter(\"ResidenceType=='APARTMENT'\")\\\n",
        "                                         .groupBy('City')\\\n",
        "                                         .agg(f.sum('Price')/f.sum('LivingArea'))\\\n",
        "                                         .withColumnRenamed('(sum(Price) / sum(LivingArea))', 'Price_square')\\\n",
        "                                         .orderBy('Price_square', ascending=False)\n",
        "\n",
        "apartement.show(10)"
      ],
      "metadata": {
        "colab": {
          "base_uri": "https://localhost:8080/"
        },
        "id": "--NjDd_dcQ7S",
        "outputId": "987b4cc3-a3f0-4885-ad25-ca94b604e4c0"
      },
      "execution_count": null,
      "outputs": [
        {
          "output_type": "stream",
          "name": "stdout",
          "text": [
            "+--------------------+------------------+\n",
            "|                City|      Price_square|\n",
            "+--------------------+------------------+\n",
            "|             CUGNAUX|11788.791624446092|\n",
            "|            TOULOUSE|11466.768596137692|\n",
            "|    VIEILLE TOULOUSE|           11000.0|\n",
            "|          AUCAMVILLE|10551.061783856017|\n",
            "|             BLAGNAC| 9300.502842041418|\n",
            "| VILLENEUVE TOLOSANE| 7638.921425950838|\n",
            "|RAMONVILLE-SAINT-...| 7039.620997327777|\n",
            "|               MURET| 6066.241258542142|\n",
            "|        CORNEBARRIEU| 5863.061381971238|\n",
            "|           COLOMIERS|5589.4168992497425|\n",
            "+--------------------+------------------+\n",
            "only showing top 10 rows\n",
            "\n"
          ]
        }
      ]
    },
    {
      "cell_type": "code",
      "source": [
        "df_appartement= apartement.toPandas()"
      ],
      "metadata": {
        "id": "z9v7cQQRcgX3"
      },
      "execution_count": null,
      "outputs": []
    },
    {
      "cell_type": "code",
      "source": [
        "#for the top 10 city\n",
        "plt.figure(figsize=(25,10))\n",
        "sns.barplot(x='City',y='Price_square' ,data=df_appartement.head(10))"
      ],
      "metadata": {
        "colab": {
          "base_uri": "https://localhost:8080/",
          "height": 414
        },
        "id": "J1uAF0C2cmOv",
        "outputId": "dec32343-05d0-4165-fdc7-cdba17166ddf"
      },
      "execution_count": null,
      "outputs": [
        {
          "output_type": "execute_result",
          "data": {
            "text/plain": [
              "<matplotlib.axes._subplots.AxesSubplot at 0x7fafbf2ea390>"
            ]
          },
          "metadata": {},
          "execution_count": 30
        },
        {
          "output_type": "display_data",
          "data": {
            "text/plain": [
              "<Figure size 1800x720 with 1 Axes>"
            ],
            "image/png": "[encoded data removed]"
          },
          "metadata": {
            "needs_background": "light"
          }
        }
      ]
    },
    {
      "cell_type": "markdown",
      "source": [
        "For Houses"
      ],
      "metadata": {
        "id": "fkTzlVEmcu9a"
      }
    },
    {
      "cell_type": "code",
      "source": [
        "import pyspark.sql.functions as f\n",
        "\n",
        "House = df.filter(\"ResidenceType=='HOUSE'\")\\\n",
        "                                         .groupBy('City')\\\n",
        "                                         .agg(f.sum('Price')/f.sum('LivingArea'))\\\n",
        "                                         .withColumnRenamed('(sum(Price) / sum(LivingArea))', 'Price_square')\\\n",
        "                                         .orderBy('Price_square', ascending=False)\n",
        "\n",
        "House.show(10)"
      ],
      "metadata": {
        "colab": {
          "base_uri": "https://localhost:8080/"
        },
        "id": "3n4xp3THcxCb",
        "outputId": "08e0dd6f-dfe6-4864-ca23-fb176d2eae18"
      },
      "execution_count": null,
      "outputs": [
        {
          "output_type": "stream",
          "name": "stdout",
          "text": [
            "+--------------------+------------------+\n",
            "|                City|      Price_square|\n",
            "+--------------------+------------------+\n",
            "|          SAINT-JEAN|14871.181122078677|\n",
            "|              PIBRAC| 8991.726182149594|\n",
            "|            TOULOUSE| 4813.766621941643|\n",
            "|  PLAISANCE DU TOUCH| 3756.353824686033|\n",
            "|               BALMA|  3589.97444121769|\n",
            "|SAINT-ORENS-DE-GA...|3581.4557160048134|\n",
            "|             BLAGNAC|3239.5740359190963|\n",
            "|    CASTANET TOLOSAN|3206.3370767562355|\n",
            "|    VIEILLE TOULOUSE|         3148.2884|\n",
            "|       TOURNEFEUILLE|3144.7848954280353|\n",
            "+--------------------+------------------+\n",
            "only showing top 10 rows\n",
            "\n"
          ]
        }
      ]
    },
    {
      "cell_type": "code",
      "source": [
        "df_house= House.toPandas()"
      ],
      "metadata": {
        "id": "C7D4VCF1c2s5"
      },
      "execution_count": null,
      "outputs": []
    },
    {
      "cell_type": "code",
      "source": [
        "plt.figure(figsize=(25,15))\n",
        "sns.barplot(x='City',y='Price_square' ,data=df_house.head(10))"
      ],
      "metadata": {
        "colab": {
          "base_uri": "https://localhost:8080/",
          "height": 589
        },
        "id": "3M1dexqQc6__",
        "outputId": "b96c5406-cc42-4ca5-b780-8193871ed35f"
      },
      "execution_count": null,
      "outputs": [
        {
          "output_type": "execute_result",
          "data": {
            "text/plain": [
              "<matplotlib.axes._subplots.AxesSubplot at 0x7fafbf1f2c10>"
            ]
          },
          "metadata": {},
          "execution_count": 33
        },
        {
          "output_type": "display_data",
          "data": {
            "text/plain": [
              "<Figure size 1800x1080 with 1 Axes>"
            ],
            "image/png": "[encoded data removed]"
          },
          "metadata": {
            "needs_background": "light"
          }
        }
      ]
    },
    {
      "cell_type": "code",
      "source": [
        "number_of_residence= df.filter(\"City=='TOULOUSE'\").groupBy('ResidenceType').count()\n",
        "number_of_residence.show()"
      ],
      "metadata": {
        "colab": {
          "base_uri": "https://localhost:8080/"
        },
        "id": "_TgzMdJsdAac",
        "outputId": "fdf06e5b-bc7d-433e-f7ab-d26533ea0f59"
      },
      "execution_count": null,
      "outputs": [
        {
          "output_type": "stream",
          "name": "stdout",
          "text": [
            "+-------------+-----+\n",
            "|ResidenceType|count|\n",
            "+-------------+-----+\n",
            "|        HOUSE| 6191|\n",
            "|    APARTMENT|45606|\n",
            "+-------------+-----+\n",
            "\n"
          ]
        }
      ]
    },
    {
      "cell_type": "code",
      "source": [
        "plt.figure(figsize=(5,5))\n",
        "sns.barplot(x='ResidenceType',y='count',hue='ResidenceType' , data=number_of_residence.toPandas())"
      ],
      "metadata": {
        "colab": {
          "base_uri": "https://localhost:8080/",
          "height": 351
        },
        "id": "vXfriSE2dH31",
        "outputId": "ec6530a8-74ec-4de0-ea43-b5bbe07bcbef"
      },
      "execution_count": null,
      "outputs": [
        {
          "output_type": "execute_result",
          "data": {
            "text/plain": [
              "<matplotlib.axes._subplots.AxesSubplot at 0x7fafbf636b10>"
            ]
          },
          "metadata": {},
          "execution_count": 35
        },
        {
          "output_type": "display_data",
          "data": {
            "text/plain": [
              "<Figure size 360x360 with 1 Axes>"
            ],
            "image/png": "[encoded data removed]"
          },
          "metadata": {
            "needs_background": "light"
          }
        }
      ]
    },
    {
      "cell_type": "code",
      "source": [
        "number_of_residence_real_estate= df.filter(\"City!='TOULOUSE'\").groupBy('ResidenceType').count()\n",
        "number_of_residence_real_estate.show()"
      ],
      "metadata": {
        "colab": {
          "base_uri": "https://localhost:8080/"
        },
        "id": "eYKxEhmbdM0G",
        "outputId": "9735ebf2-bfb4-4049-acce-f0099039af44"
      },
      "execution_count": null,
      "outputs": [
        {
          "output_type": "stream",
          "name": "stdout",
          "text": [
            "+-------------+-----+\n",
            "|ResidenceType|count|\n",
            "+-------------+-----+\n",
            "|        HOUSE|11439|\n",
            "|    APARTMENT|16882|\n",
            "|ResidenceType|    1|\n",
            "+-------------+-----+\n",
            "\n"
          ]
        }
      ]
    },
    {
      "cell_type": "code",
      "source": [
        "plt.figure(figsize=(5,5))\n",
        "sns.barplot(x='ResidenceType',y='count',hue='ResidenceType' , data=number_of_residence_real_estate.toPandas())"
      ],
      "metadata": {
        "colab": {
          "base_uri": "https://localhost:8080/",
          "height": 351
        },
        "id": "Dj5dF3BXdf5h",
        "outputId": "d46df4e1-a29b-4980-ec64-d7dc2bf2ed54"
      },
      "execution_count": null,
      "outputs": [
        {
          "output_type": "execute_result",
          "data": {
            "text/plain": [
              "<matplotlib.axes._subplots.AxesSubplot at 0x7fafbf6cdf50>"
            ]
          },
          "metadata": {},
          "execution_count": 37
        },
        {
          "output_type": "display_data",
          "data": {
            "text/plain": [
              "<Figure size 360x360 with 1 Axes>"
            ],
            "image/png": "[encoded data removed]"
          },
          "metadata": {
            "needs_background": "light"
          }
        }
      ]
    },
    {
      "cell_type": "code",
      "source": [
        "number_of_room_toulouse= df.filter(\"City=='TOULOUSE'\").groupBy('ResidenceType').mean()\n",
        "number_of_room_toulouse.show()"
      ],
      "metadata": {
        "colab": {
          "base_uri": "https://localhost:8080/"
        },
        "id": "1KMRL2aVdk7K",
        "outputId": "c2b3544a-643a-4fae-8ef2-033fd8fa271e"
      },
      "execution_count": null,
      "outputs": [
        {
          "output_type": "stream",
          "name": "stdout",
          "text": [
            "+-------------+-----------------+-----------------+-------------------+------------------+------------------+\n",
            "|ResidenceType|       avg(Price)|     avg(NbRooms)|        avg(NbLots)|   avg(LivingArea)|     avg(LandArea)|\n",
            "+-------------+-----------------+-----------------+-------------------+------------------+------------------+\n",
            "|        HOUSE|511179.0295469468|4.347762881602326|0.17057018252301728|104.49297367145857|493.43110967533516|\n",
            "|    APARTMENT| 651202.838807329|2.547537604701136| 1.2188966364074902| 54.70964346796474| 155.0749682059378|\n",
            "+-------------+-----------------+-----------------+-------------------+------------------+------------------+\n",
            "\n"
          ]
        }
      ]
    },
    {
      "cell_type": "code",
      "source": [
        "sns.barplot(x='ResidenceType',y='avg(NbRooms)',data=number_of_room_toulouse.toPandas())"
      ],
      "metadata": {
        "colab": {
          "base_uri": "https://localhost:8080/",
          "height": 296
        },
        "id": "cg-J6LS6dsRF",
        "outputId": "0eb9468e-254e-46f3-83ed-22f63916c2a7"
      },
      "execution_count": null,
      "outputs": [
        {
          "output_type": "execute_result",
          "data": {
            "text/plain": [
              "<matplotlib.axes._subplots.AxesSubplot at 0x7fafbf03b850>"
            ]
          },
          "metadata": {},
          "execution_count": 39
        },
        {
          "output_type": "display_data",
          "data": {
            "text/plain": [
              "<Figure size 432x288 with 1 Axes>"
            ],
            "image/png": "[encoded data removed]"
          },
          "metadata": {
            "needs_background": "light"
          }
        }
      ]
    },
    {
      "cell_type": "code",
      "source": [
        "number_of_room_real_estate= df.filter(\"City!='TOULOUSE'\").groupBy('ResidenceType').mean()\n",
        "sns.barplot(x='ResidenceType',y='avg(NbRooms)',data=number_of_room_real_estate.toPandas())"
      ],
      "metadata": {
        "colab": {
          "base_uri": "https://localhost:8080/",
          "height": 296
        },
        "id": "nKn1oyYDdxy5",
        "outputId": "e3c1fe15-45c6-4483-ea84-e3e5606ad8fb"
      },
      "execution_count": null,
      "outputs": [
        {
          "output_type": "execute_result",
          "data": {
            "text/plain": [
              "<matplotlib.axes._subplots.AxesSubplot at 0x7fafbf01cd50>"
            ]
          },
          "metadata": {},
          "execution_count": 40
        },
        {
          "output_type": "display_data",
          "data": {
            "text/plain": [
              "<Figure size 432x288 with 1 Axes>"
            ],
            "image/png": "[encoded data removed]"
          },
          "metadata": {
            "needs_background": "light"
          }
        }
      ]
    },
    {
      "cell_type": "markdown",
      "source": [
        "Identification of sales outliers\n",
        "This graph shows that the distribution is skewed to the left with a mean price equal to 4200 and the minimum price is below 4000, while the maximum price is 8500 with the existence of some outliers price which are equal to approximately 12000 and 1400"
      ],
      "metadata": {
        "id": "HIZTtfdBlQpJ"
      }
    },
    {
      "cell_type": "code",
      "source": [
        "sns.boxplot(x='Price_square', data=df_evolution)"
      ],
      "metadata": {
        "colab": {
          "base_uri": "https://localhost:8080/",
          "height": 297
        },
        "id": "mrd9713Rqn-9",
        "outputId": "a0cd4352-bf27-4298-99e4-9a26bd8b6277"
      },
      "execution_count": null,
      "outputs": [
        {
          "output_type": "execute_result",
          "data": {
            "text/plain": [
              "<matplotlib.axes._subplots.AxesSubplot at 0x7fafbce61650>"
            ]
          },
          "metadata": {},
          "execution_count": 42
        },
        {
          "output_type": "display_data",
          "data": {
            "text/plain": [
              "<Figure size 432x288 with 1 Axes>"
            ],
            "image/png": "[encoded data removed]"
          },
          "metadata": {
            "needs_background": "light"
          }
        }
      ]
    },
    {
      "cell_type": "markdown",
      "source": [
        "Differences between types of Saletype\n",
        "For House"
      ],
      "metadata": {
        "id": "lBwX9zd4q3t4"
      }
    },
    {
      "cell_type": "code",
      "source": [
        "Differences_between_types_of_sales = df.filter(\"ResidenceType=='HOUSE'\").groupBy('SaleType').sum()\n",
        "                                           \n",
        "Differences_between_types_of_sales.show(10)"
      ],
      "metadata": {
        "colab": {
          "base_uri": "https://localhost:8080/"
        },
        "id": "6_-n00JRq0ph",
        "outputId": "4cb83bb8-4ca0-4ba1-b2e2-4a8929d35a10"
      },
      "execution_count": null,
      "outputs": [
        {
          "output_type": "stream",
          "name": "stdout",
          "text": [
            "+--------------------+----------+------------+-----------+---------------+-------------+\n",
            "|            SaleType|sum(Price)|sum(NbRooms)|sum(NbLots)|sum(LivingArea)|sum(LandArea)|\n",
            "+--------------------+----------+------------+-----------+---------------+-------------+\n",
            "|SALE BEFORE COMPL...| 215383360|        2796|        800|          59342|        32386|\n",
            "|                SALE|7535794041|       75789|       2248|        1826784|      9908893|\n",
            "+--------------------+----------+------------+-----------+---------------+-------------+\n",
            "\n"
          ]
        }
      ]
    },
    {
      "cell_type": "code",
      "source": [
        "df_Differences_between_types_of_sales= Differences_between_types_of_sales.toPandas()"
      ],
      "metadata": {
        "id": "PkGBTCKIq-wx"
      },
      "execution_count": null,
      "outputs": []
    },
    {
      "cell_type": "code",
      "source": [
        "sns.barplot(x='SaleType',y='sum(Price)',data=df_Differences_between_types_of_sales)"
      ],
      "metadata": {
        "colab": {
          "base_uri": "https://localhost:8080/",
          "height": 307
        },
        "id": "KemhTMXxrE8s",
        "outputId": "0f862deb-6154-4cb6-f649-0ff10fca3b5d"
      },
      "execution_count": null,
      "outputs": [
        {
          "output_type": "execute_result",
          "data": {
            "text/plain": [
              "<matplotlib.axes._subplots.AxesSubplot at 0x7fafbee8fa10>"
            ]
          },
          "metadata": {},
          "execution_count": 45
        },
        {
          "output_type": "display_data",
          "data": {
            "text/plain": [
              "<Figure size 432x288 with 1 Axes>"
            ],
            "image/png": "[encoded data removed]"
          },
          "metadata": {
            "needs_background": "light"
          }
        }
      ]
    }
  ]
}